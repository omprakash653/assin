{
 "cells": [
  {
   "cell_type": "code",
   "execution_count": 1,
   "id": "8815c18a-7ec4-4f86-956c-ec49e2f5da7e",
   "metadata": {},
   "outputs": [
    {
     "name": "stdout",
     "output_type": "stream",
     "text": [
      "My name is Niranjan and I am 23 years old.\n"
     ]
    }
   ],
   "source": [
    "#Q1. The Person class has a constructor that takes name and age as arguments and assigns them to the object's attributes. \n",
    "# The introduce method is then invoked on the object to introduce the person.\n",
    "\n",
    "class person:\n",
    "    def __init__(self,name,age):\n",
    "        self.name=name\n",
    "        self.age=age\n",
    "    def introduce(self):\n",
    "        print(f'My name is {self.name} and I am {self.age} years old.')\n",
    "p=person('Niranjan', 23)\n",
    "p.introduce()"
   ]
  },
  {
   "cell_type": "code",
   "execution_count": 5,
   "id": "d7111bcd-5812-43e2-aa4c-80084988c072",
   "metadata": {},
   "outputs": [
    {
     "name": "stdout",
     "output_type": "stream",
     "text": [
      "Brand of car is Ford and model is Classic Mustang\n"
     ]
    }
   ],
   "source": [
    "#Q2.The Car class has a constructor that takes brand and model as arguments and assigns them to the object's attributes. \n",
    "#The display_info method is then invoked on the object to display the car's brand and model.\n",
    "\n",
    "class car:\n",
    "    def __init__(self,brand,model):\n",
    "        self.brand=brand\n",
    "        self.model=model\n",
    "    def display(self):\n",
    "        print(f'Brand of car is {self.brand} and model is {self.model}')\n",
    "c=car('Ford','Classic Mustang')\n",
    "c.display()"
   ]
  },
  {
   "cell_type": "code",
   "execution_count": 9,
   "id": "aef3b08d-ab6a-442b-b607-bc51bb78f72d",
   "metadata": {},
   "outputs": [
    {
     "name": "stdout",
     "output_type": "stream",
     "text": [
      "Hello your account number is 100 and balance is 10000\n"
     ]
    }
   ],
   "source": [
    "#Q3.the BankAccount class has a constructor that takes account_number and balance as arguments and assigns them to the object's attributes. \n",
    "#The display_balance method is then invoked on the object to display the account number and balance\n",
    "\n",
    "class bank:\n",
    "    def __init__(self,account_number,balance):\n",
    "        self.account_number=account_number\n",
    "        self.balance=balance\n",
    "    def display(self):\n",
    "        print(f'Hello your account number is {self.account_number} and balance is {self.balance}')\n",
    "a=bank('100',10000)\n",
    "a.display()"
   ]
  },
  {
   "cell_type": "code",
   "execution_count": 39,
   "id": "c32c9348-e66a-44f2-8701-506f84ba3a2d",
   "metadata": {},
   "outputs": [
    {
     "name": "stdout",
     "output_type": "stream",
     "text": [
      "You are reciving call with 9009849006 this number and the phone is ROG 7 of Asus brand\n"
     ]
    }
   ],
   "source": [
    "#Q4.The MobilePhone class has a constructor that takes brand and model as arguments and assigns them to the object's attributes. \n",
    "#The make_call method is then invoked on the object to make a call with the phone.\n",
    "\n",
    "class mobile:\n",
    "    def __init__(self,brand,model):\n",
    "        self.brand=brand\n",
    "        self.model=model\n",
    "    def make_call(self,number):\n",
    "        self.number=number\n",
    "        print(f'You are reciving call with {self.number} this number and the phone is {self.model} of {self.brand} brand')\n",
    "p=mobile('Asus','ROG 7')\n",
    "p.make_call('9009849006')"
   ]
  },
  {
   "cell_type": "code",
   "execution_count": 17,
   "id": "b1b9e84f-b243-41a3-898f-b4c6e16e60aa",
   "metadata": {},
   "outputs": [
    {
     "name": "stdout",
     "output_type": "stream",
     "text": [
      "The title of the book is The Naga Warriors and author is Akshat Gupta\n"
     ]
    }
   ],
   "source": [
    "# Q5.The Book class has a constructor that takes title and author as arguments and assigns them to the object's attributes. \n",
    "# The display_info method is then invoked on the object to display the book's title and author\n",
    "\n",
    "class book:\n",
    "    def __init__(self,title,author):\n",
    "        self.title=title\n",
    "        self.author=author\n",
    "    def display(self):\n",
    "        print(f'The title of the book is {self.title} and author is {self.author}')\n",
    "b=book('The Naga Warriors','Akshat Gupta')\n",
    "b.display()"
   ]
  },
  {
   "cell_type": "code",
   "execution_count": 31,
   "id": "933f9bac-1f96-493d-a2c5-21bdc4a7c706",
   "metadata": {},
   "outputs": [
    {
     "name": "stdout",
     "output_type": "stream",
     "text": [
      "The year of making vehicle is 2015 made by Ford company and model is Mustang Cobra\n",
      "The cars engine has started\n",
      "The cars engine has stoped\n",
      "The year of making vehicle is 2023 made by Kawasaki company and model is Ninja zx10R\n",
      "The motorcycles engine has started\n",
      "The motorcycles engine has stoped\n"
     ]
    }
   ],
   "source": [
    "# Q6.Vehicles: Create a base class called Vehicle with attributes such as make, model, and year. Implement two subclasses Car and Motorcycle that \n",
    "# inherit from Vehicle.Add additional methods to the subclasses, such as start_engine() and stop_engine(), and handle any specific behavior or rules \n",
    "# for each vehicle type.\n",
    "\n",
    "class vehicle:\n",
    "    def __init__(self,make,model,year):\n",
    "        self.make=make\n",
    "        self.model=model\n",
    "        self.year=year\n",
    "    def display(self):\n",
    "        print(f'The year of making vehicle is {self.year} made by {self.make} company and model is {self.model}')\n",
    "    def start(self):\n",
    "        print('Engine started')\n",
    "    def stop(self):\n",
    "        print('Engine stopped')\n",
    "        \n",
    "class car(vehicle):\n",
    "    def __init__(self,make,model,year):\n",
    "        super().__init__(make,model,year)\n",
    "    def start(self):\n",
    "        print(f'The cars engine has started')\n",
    "    def stop(self):\n",
    "        print(f'The cars engine has stoped')\n",
    "        \n",
    "class motorcycle(vehicle):\n",
    "    def __init__(self,make,model,year):\n",
    "        super().__init__(make,model,year)\n",
    "    def start(self):\n",
    "        print(f'The motorcycles engine has started')\n",
    "    def stop(self):\n",
    "        print(f'The motorcycles engine has stoped')\n",
    "   \n",
    "c=car('Ford','Mustang Cobra',2015)\n",
    "m=motorcycle('Kawasaki','Ninja zx10R',2023)\n",
    "c.display()  \n",
    "c.start()\n",
    "c.stop()\n",
    "\n",
    "m.display()   \n",
    "m.start()            \n",
    "m.stop()              \n",
    "   "
   ]
  },
  {
   "cell_type": "code",
   "execution_count": 35,
   "id": "239bc406-6168-4716-a83d-146a4fbbe3d8",
   "metadata": {},
   "outputs": [
    {
     "name": "stdout",
     "output_type": "stream",
     "text": [
      "Animal wants something for eat\n",
      "Tommy is sleeping on the sofa\n",
      "Tommy is barking Woof Woof\n",
      "Animal wants something for eat\n",
      "Mani finds a sunny spot and takes a nap.\n",
      "Mani is meowing: Meow!\n"
     ]
    }
   ],
   "source": [
    "# Q7.Animals: Create a base class called Animal with methods such as eat() and sleep(). Implement two subclasses Dog and Cat that inherit from Animal. \n",
    "# Add additional methods to the subclasses, such as bark() for dogs and meow() for cats, and handle any specific behavior or rules for each animal type.\n",
    "\n",
    "class animal:\n",
    "    def eat(self):\n",
    "        print('Animal wants something for eat')\n",
    "    def sleep(self):\n",
    "        print('Animal wants to sleep')\n",
    "\n",
    "class dog(animal):\n",
    "    def __init__(self,name):\n",
    "        self.name=name\n",
    "    def bark(self):\n",
    "        print(f'{self.name} is barking Woof Woof')\n",
    "    def sleep(self):\n",
    "        print(f'{self.name} is sleeping on the sofa')\n",
    "\n",
    "class cat(animal):\n",
    "    def __init__(self,name):\n",
    "        self.name=name\n",
    "    def meow(self):\n",
    "        print(f'{self.name} is meowing Meow')\n",
    "    def sleep(self):\n",
    "        print(f'{self.name} sleeping on bed')\n",
    "\n",
    "d=dog('Tommy')\n",
    "c=cat('Mani')\n",
    "d.eat() \n",
    "d.sleep() \n",
    "d.bark() \n",
    "c.eat()                          \n",
    "c.sleep()                              \n",
    "c.meow()                     "
   ]
  },
  {
   "cell_type": "code",
   "execution_count": null,
   "id": "883af92a-8d8e-4573-9920-9b06eff08804",
   "metadata": {},
   "outputs": [],
   "source": []
  }
 ],
 "metadata": {
  "kernelspec": {
   "display_name": "Python 3 (ipykernel)",
   "language": "python",
   "name": "python3"
  },
  "language_info": {
   "codemirror_mode": {
    "name": "ipython",
    "version": 3
   },
   "file_extension": ".py",
   "mimetype": "text/x-python",
   "name": "python",
   "nbconvert_exporter": "python",
   "pygments_lexer": "ipython3",
   "version": "3.12.4"
  }
 },
 "nbformat": 4,
 "nbformat_minor": 5
}
